{
  "nbformat": 4,
  "nbformat_minor": 0,
  "metadata": {
    "colab": {
      "name": "01-Analise_Exploratoria-CompanhiaMB-v1.1.ipynb",
      "provenance": [],
      "collapsed_sections": [],
      "toc_visible": true
    },
    "kernelspec": {
      "name": "python3",
      "display_name": "Python 3"
    }
  },
  "cells": [
    {
      "cell_type": "code",
      "metadata": {
        "id": "qiUohDXq_7xA"
      },
      "source": [
        "import numpy as np   # biblioteca para cálculo matricial e ele também fornece estruturas de dados para o pandas\n",
        "import pandas as pd  # biblioteca para análise e transformação de dados"
      ],
      "execution_count": null,
      "outputs": []
    },
    {
      "cell_type": "code",
      "metadata": {
        "id": "uNc1xb9mDAfP"
      },
      "source": [
        "# vamos ler o arquivo Companhia_MB.txt\n",
        "filename = '/content/drive/MyDrive/FIA/Companhia_MB.txt'\n",
        "df = pd.read_csv(filename, sep='\\t')"
      ],
      "execution_count": null,
      "outputs": []
    },
    {
      "cell_type": "code",
      "metadata": {
        "colab": {
          "base_uri": "https://localhost:8080/",
          "height": 204
        },
        "id": "AevuKaSwFdoE",
        "outputId": "9e33f782-efec-47bb-87dc-9d97764a23a5"
      },
      "source": [
        "# mostra apenas as 5 primeiras linhas\n",
        "df.head()"
      ],
      "execution_count": null,
      "outputs": [
        {
          "output_type": "execute_result",
          "data": {
            "text/html": [
              "<div>\n",
              "<style scoped>\n",
              "    .dataframe tbody tr th:only-of-type {\n",
              "        vertical-align: middle;\n",
              "    }\n",
              "\n",
              "    .dataframe tbody tr th {\n",
              "        vertical-align: top;\n",
              "    }\n",
              "\n",
              "    .dataframe thead th {\n",
              "        text-align: right;\n",
              "    }\n",
              "</style>\n",
              "<table border=\"1\" class=\"dataframe\">\n",
              "  <thead>\n",
              "    <tr style=\"text-align: right;\">\n",
              "      <th></th>\n",
              "      <th>N</th>\n",
              "      <th>estado_civil</th>\n",
              "      <th>grau_instrucao</th>\n",
              "      <th>n_filhos</th>\n",
              "      <th>salario</th>\n",
              "      <th>idade_anos</th>\n",
              "      <th>reg_procedencia</th>\n",
              "    </tr>\n",
              "  </thead>\n",
              "  <tbody>\n",
              "    <tr>\n",
              "      <th>0</th>\n",
              "      <td>1</td>\n",
              "      <td>solteiro</td>\n",
              "      <td>1-ensino fundamental</td>\n",
              "      <td>NaN</td>\n",
              "      <td>4.00</td>\n",
              "      <td>26</td>\n",
              "      <td>interior</td>\n",
              "    </tr>\n",
              "    <tr>\n",
              "      <th>1</th>\n",
              "      <td>2</td>\n",
              "      <td>casado</td>\n",
              "      <td>1-ensino fundamental</td>\n",
              "      <td>1.0</td>\n",
              "      <td>4.56</td>\n",
              "      <td>32</td>\n",
              "      <td>capital</td>\n",
              "    </tr>\n",
              "    <tr>\n",
              "      <th>2</th>\n",
              "      <td>3</td>\n",
              "      <td>casado</td>\n",
              "      <td>1-ensino fundamental</td>\n",
              "      <td>2.0</td>\n",
              "      <td>5.25</td>\n",
              "      <td>36</td>\n",
              "      <td>capital</td>\n",
              "    </tr>\n",
              "    <tr>\n",
              "      <th>3</th>\n",
              "      <td>4</td>\n",
              "      <td>solteiro</td>\n",
              "      <td>2-ensino medio</td>\n",
              "      <td>NaN</td>\n",
              "      <td>5.73</td>\n",
              "      <td>20</td>\n",
              "      <td>outra</td>\n",
              "    </tr>\n",
              "    <tr>\n",
              "      <th>4</th>\n",
              "      <td>5</td>\n",
              "      <td>solteiro</td>\n",
              "      <td>1-ensino fundamental</td>\n",
              "      <td>NaN</td>\n",
              "      <td>6.26</td>\n",
              "      <td>40</td>\n",
              "      <td>outra</td>\n",
              "    </tr>\n",
              "  </tbody>\n",
              "</table>\n",
              "</div>"
            ],
            "text/plain": [
              "   N estado_civil        grau_instrucao  ...  salario  idade_anos  reg_procedencia\n",
              "0  1     solteiro  1-ensino fundamental  ...     4.00          26         interior\n",
              "1  2       casado  1-ensino fundamental  ...     4.56          32          capital\n",
              "2  3       casado  1-ensino fundamental  ...     5.25          36          capital\n",
              "3  4     solteiro        2-ensino medio  ...     5.73          20            outra\n",
              "4  5     solteiro  1-ensino fundamental  ...     6.26          40            outra\n",
              "\n",
              "[5 rows x 7 columns]"
            ]
          },
          "metadata": {
            "tags": []
          },
          "execution_count": 7
        }
      ]
    },
    {
      "cell_type": "code",
      "metadata": {
        "colab": {
          "base_uri": "https://localhost:8080/",
          "height": 195
        },
        "id": "LzQ-iWZ6OB_H",
        "outputId": "75ff93f0-06b3-45eb-8b4d-f99fd83f1640"
      },
      "source": [
        "# mostra as últimas 5 linhas\n",
        "df.tail()"
      ],
      "execution_count": null,
      "outputs": [
        {
          "output_type": "execute_result",
          "data": {
            "text/html": [
              "<div>\n",
              "<style scoped>\n",
              "    .dataframe tbody tr th:only-of-type {\n",
              "        vertical-align: middle;\n",
              "    }\n",
              "\n",
              "    .dataframe tbody tr th {\n",
              "        vertical-align: top;\n",
              "    }\n",
              "\n",
              "    .dataframe thead th {\n",
              "        text-align: right;\n",
              "    }\n",
              "</style>\n",
              "<table border=\"1\" class=\"dataframe\">\n",
              "  <thead>\n",
              "    <tr style=\"text-align: right;\">\n",
              "      <th></th>\n",
              "      <th>N</th>\n",
              "      <th>estado_civil</th>\n",
              "      <th>grau_instrucao</th>\n",
              "      <th>n_filhos</th>\n",
              "      <th>salario</th>\n",
              "      <th>idade_anos</th>\n",
              "      <th>reg_procedencia</th>\n",
              "    </tr>\n",
              "  </thead>\n",
              "  <tbody>\n",
              "    <tr>\n",
              "      <th>31</th>\n",
              "      <td>32</td>\n",
              "      <td>casado</td>\n",
              "      <td>2-ensino medio</td>\n",
              "      <td>1.0</td>\n",
              "      <td>16.61</td>\n",
              "      <td>36</td>\n",
              "      <td>interior</td>\n",
              "    </tr>\n",
              "    <tr>\n",
              "      <th>32</th>\n",
              "      <td>33</td>\n",
              "      <td>casado</td>\n",
              "      <td>3-superior</td>\n",
              "      <td>3.0</td>\n",
              "      <td>17.26</td>\n",
              "      <td>43</td>\n",
              "      <td>capital</td>\n",
              "    </tr>\n",
              "    <tr>\n",
              "      <th>33</th>\n",
              "      <td>34</td>\n",
              "      <td>solteiro</td>\n",
              "      <td>3-superior</td>\n",
              "      <td>NaN</td>\n",
              "      <td>18.75</td>\n",
              "      <td>33</td>\n",
              "      <td>capital</td>\n",
              "    </tr>\n",
              "    <tr>\n",
              "      <th>34</th>\n",
              "      <td>35</td>\n",
              "      <td>casado</td>\n",
              "      <td>2-ensino medio</td>\n",
              "      <td>2.0</td>\n",
              "      <td>19.40</td>\n",
              "      <td>48</td>\n",
              "      <td>capital</td>\n",
              "    </tr>\n",
              "    <tr>\n",
              "      <th>35</th>\n",
              "      <td>36</td>\n",
              "      <td>casado</td>\n",
              "      <td>3-superior</td>\n",
              "      <td>3.0</td>\n",
              "      <td>23.30</td>\n",
              "      <td>42</td>\n",
              "      <td>interior</td>\n",
              "    </tr>\n",
              "  </tbody>\n",
              "</table>\n",
              "</div>"
            ],
            "text/plain": [
              "     N estado_civil  grau_instrucao  ...  salario  idade_anos  reg_procedencia\n",
              "31  32       casado  2-ensino medio  ...    16.61          36         interior\n",
              "32  33       casado      3-superior  ...    17.26          43          capital\n",
              "33  34     solteiro      3-superior  ...    18.75          33          capital\n",
              "34  35       casado  2-ensino medio  ...    19.40          48          capital\n",
              "35  36       casado      3-superior  ...    23.30          42         interior\n",
              "\n",
              "[5 rows x 7 columns]"
            ]
          },
          "metadata": {
            "tags": []
          },
          "execution_count": 4
        }
      ]
    },
    {
      "cell_type": "code",
      "metadata": {
        "colab": {
          "base_uri": "https://localhost:8080/"
        },
        "id": "xjnUsWB2ONoh",
        "outputId": "521d6734-4cfb-421e-af41-b59651203553"
      },
      "source": [
        "# retorna uma tupla onde o primeiro elemento é a quantidade de linhas e o segundo a quantidade de colunas\n",
        "df.shape"
      ],
      "execution_count": null,
      "outputs": [
        {
          "output_type": "execute_result",
          "data": {
            "text/plain": [
              "(36, 7)"
            ]
          },
          "metadata": {
            "tags": []
          },
          "execution_count": 5
        }
      ]
    },
    {
      "cell_type": "code",
      "metadata": {
        "colab": {
          "base_uri": "https://localhost:8080/"
        },
        "id": "NQBA3ZkbOZxG",
        "outputId": "972dabe6-4174-4c65-a462-a42c98487b2b"
      },
      "source": [
        "# obter uma lista com o nome das colunas\n",
        "df.columns.tolist()"
      ],
      "execution_count": null,
      "outputs": [
        {
          "output_type": "execute_result",
          "data": {
            "text/plain": [
              "['N',\n",
              " 'estado_civil',\n",
              " 'grau_instrucao',\n",
              " 'n_filhos',\n",
              " 'salario',\n",
              " 'idade_anos',\n",
              " 'reg_procedencia']"
            ]
          },
          "metadata": {
            "tags": []
          },
          "execution_count": 6
        }
      ]
    },
    {
      "cell_type": "code",
      "metadata": {
        "colab": {
          "base_uri": "https://localhost:8080/"
        },
        "id": "XNVtDaf9OkZ5",
        "outputId": "4a510bd5-c3cd-474f-9216-8dcacab10295"
      },
      "source": [
        "# mostra informações adicionais\n",
        "df.info()"
      ],
      "execution_count": null,
      "outputs": [
        {
          "output_type": "stream",
          "text": [
            "<class 'pandas.core.frame.DataFrame'>\n",
            "RangeIndex: 36 entries, 0 to 35\n",
            "Data columns (total 7 columns):\n",
            " #   Column           Non-Null Count  Dtype  \n",
            "---  ------           --------------  -----  \n",
            " 0   N                36 non-null     int64  \n",
            " 1   estado_civil     36 non-null     object \n",
            " 2   grau_instrucao   36 non-null     object \n",
            " 3   n_filhos         20 non-null     float64\n",
            " 4   salario          36 non-null     float64\n",
            " 5   idade_anos       36 non-null     int64  \n",
            " 6   reg_procedencia  36 non-null     object \n",
            "dtypes: float64(2), int64(2), object(3)\n",
            "memory usage: 2.1+ KB\n"
          ],
          "name": "stdout"
        }
      ]
    },
    {
      "cell_type": "code",
      "metadata": {
        "colab": {
          "base_uri": "https://localhost:8080/"
        },
        "id": "PTtJnBrOQM9v",
        "outputId": "6b053ba7-0d21-4ca7-c521-a89ac758d84f"
      },
      "source": [
        "# mostra a quantidade de valores nulos por coluna\n",
        "df.isnull().sum()"
      ],
      "execution_count": null,
      "outputs": [
        {
          "output_type": "execute_result",
          "data": {
            "text/plain": [
              "N                   0\n",
              "estado_civil        0\n",
              "grau_instrucao      0\n",
              "n_filhos           16\n",
              "salario             0\n",
              "idade_anos          0\n",
              "reg_procedencia     0\n",
              "dtype: int64"
            ]
          },
          "metadata": {
            "tags": []
          },
          "execution_count": 8
        }
      ]
    },
    {
      "cell_type": "code",
      "metadata": {
        "colab": {
          "base_uri": "https://localhost:8080/"
        },
        "id": "z-AjG27EQ6Do",
        "outputId": "a04535a9-7c9b-493d-e266-e17746866583"
      },
      "source": [
        "# mostra o percentual de valores nulos por coluna\n",
        "df.isnull().sum() / df.shape[0]"
      ],
      "execution_count": null,
      "outputs": [
        {
          "output_type": "execute_result",
          "data": {
            "text/plain": [
              "N                  0.000000\n",
              "estado_civil       0.000000\n",
              "grau_instrucao     0.000000\n",
              "n_filhos           0.444444\n",
              "salario            0.000000\n",
              "idade_anos         0.000000\n",
              "reg_procedencia    0.000000\n",
              "dtype: float64"
            ]
          },
          "metadata": {
            "tags": []
          },
          "execution_count": 9
        }
      ]
    },
    {
      "cell_type": "markdown",
      "metadata": {
        "id": "OJXX3UxZT3M6"
      },
      "source": [
        "# Análise Univariada"
      ]
    },
    {
      "cell_type": "markdown",
      "metadata": {
        "id": "3aAr_GUUUHnQ"
      },
      "source": [
        "## Variáveis Qualitativas"
      ]
    },
    {
      "cell_type": "code",
      "metadata": {
        "colab": {
          "base_uri": "https://localhost:8080/",
          "height": 166
        },
        "id": "tDUix51xRUGh",
        "outputId": "32791e3e-33e8-4ed1-9535-1f2955a44912"
      },
      "source": [
        "# tabela descritiva\n",
        "df.describe(include=['object'])"
      ],
      "execution_count": null,
      "outputs": [
        {
          "output_type": "execute_result",
          "data": {
            "text/html": [
              "<div>\n",
              "<style scoped>\n",
              "    .dataframe tbody tr th:only-of-type {\n",
              "        vertical-align: middle;\n",
              "    }\n",
              "\n",
              "    .dataframe tbody tr th {\n",
              "        vertical-align: top;\n",
              "    }\n",
              "\n",
              "    .dataframe thead th {\n",
              "        text-align: right;\n",
              "    }\n",
              "</style>\n",
              "<table border=\"1\" class=\"dataframe\">\n",
              "  <thead>\n",
              "    <tr style=\"text-align: right;\">\n",
              "      <th></th>\n",
              "      <th>estado_civil</th>\n",
              "      <th>grau_instrucao</th>\n",
              "      <th>reg_procedencia</th>\n",
              "    </tr>\n",
              "  </thead>\n",
              "  <tbody>\n",
              "    <tr>\n",
              "      <th>count</th>\n",
              "      <td>36</td>\n",
              "      <td>36</td>\n",
              "      <td>36</td>\n",
              "    </tr>\n",
              "    <tr>\n",
              "      <th>unique</th>\n",
              "      <td>2</td>\n",
              "      <td>3</td>\n",
              "      <td>3</td>\n",
              "    </tr>\n",
              "    <tr>\n",
              "      <th>top</th>\n",
              "      <td>casado</td>\n",
              "      <td>2-ensino medio</td>\n",
              "      <td>outra</td>\n",
              "    </tr>\n",
              "    <tr>\n",
              "      <th>freq</th>\n",
              "      <td>20</td>\n",
              "      <td>18</td>\n",
              "      <td>13</td>\n",
              "    </tr>\n",
              "  </tbody>\n",
              "</table>\n",
              "</div>"
            ],
            "text/plain": [
              "       estado_civil  grau_instrucao reg_procedencia\n",
              "count            36              36              36\n",
              "unique            2               3               3\n",
              "top          casado  2-ensino medio           outra\n",
              "freq             20              18              13"
            ]
          },
          "metadata": {
            "tags": []
          },
          "execution_count": 10
        }
      ]
    },
    {
      "cell_type": "code",
      "metadata": {
        "colab": {
          "base_uri": "https://localhost:8080/"
        },
        "id": "fPambvRmUteW",
        "outputId": "2f4479eb-6388-4590-d237-dc403843c767"
      },
      "source": [
        "# contagem de frequência absoluta\n",
        "tab_grau_instrucao = df['grau_instrucao'].value_counts()\n",
        "tab_grau_instrucao"
      ],
      "execution_count": null,
      "outputs": [
        {
          "output_type": "execute_result",
          "data": {
            "text/plain": [
              "2-ensino medio          18\n",
              "1-ensino fundamental    12\n",
              "3-superior               6\n",
              "Name: grau_instrucao, dtype: int64"
            ]
          },
          "metadata": {
            "tags": []
          },
          "execution_count": 11
        }
      ]
    },
    {
      "cell_type": "code",
      "metadata": {
        "colab": {
          "base_uri": "https://localhost:8080/",
          "height": 365
        },
        "id": "ykq1z63qVN1m",
        "outputId": "e6f1858e-8b99-447b-98ac-2e0a9b3fb52c"
      },
      "source": [
        "# Gráfico de Barras da frequência absoluta\n",
        "tab_grau_instrucao.plot(kind='bar');"
      ],
      "execution_count": null,
      "outputs": [
        {
          "output_type": "display_data",
          "data": {
            "image/png": "[encoded data removed]",
            "text/plain": [
              "<Figure size 432x288 with 1 Axes>"
            ]
          },
          "metadata": {
            "tags": [],
            "needs_background": "light"
          }
        }
      ]
    },
    {
      "cell_type": "code",
      "metadata": {
        "colab": {
          "base_uri": "https://localhost:8080/"
        },
        "id": "a9OZ2QIFWCpE",
        "outputId": "cb26677a-ca66-44e2-f4a8-75922cb28cb9"
      },
      "source": [
        "# tabela de frequência relativa\n",
        "tab_grau_instrucao_p = df['grau_instrucao'].value_counts(normalize=True)\n",
        "tab_grau_instrucao_p"
      ],
      "execution_count": null,
      "outputs": [
        {
          "output_type": "execute_result",
          "data": {
            "text/plain": [
              "2-ensino medio          0.500000\n",
              "1-ensino fundamental    0.333333\n",
              "3-superior              0.166667\n",
              "Name: grau_instrucao, dtype: float64"
            ]
          },
          "metadata": {
            "tags": []
          },
          "execution_count": 13
        }
      ]
    },
    {
      "cell_type": "code",
      "metadata": {
        "colab": {
          "base_uri": "https://localhost:8080/",
          "height": 365
        },
        "id": "Jso_NaCBWSrd",
        "outputId": "6ca7f2d1-33e9-4158-9c8c-624a6e2b2265"
      },
      "source": [
        "# gráfico de barras da frequência relativa\n",
        "tab_grau_instrucao_p.plot(kind='bar');"
      ],
      "execution_count": null,
      "outputs": [
        {
          "output_type": "display_data",
          "data": {
            "image/png": "[encoded data removed]",
            "text/plain": [
              "<Figure size 432x288 with 1 Axes>"
            ]
          },
          "metadata": {
            "tags": [],
            "needs_background": "light"
          }
        }
      ]
    },
    {
      "cell_type": "markdown",
      "metadata": {
        "id": "Ehin89MjYBe3"
      },
      "source": [
        "### Exercício 1\n",
        "\n",
        "Calcular as frequências absoluta e relativas para a variável `estado_civil` e construa os gráficos de barras."
      ]
    },
    {
      "cell_type": "code",
      "metadata": {
        "id": "wu7f7-R4YDKh",
        "colab": {
          "base_uri": "https://localhost:8080/"
        },
        "outputId": "eeed61cc-5d93-45ac-acda-1b93aa1092ef"
      },
      "source": [
        "df['estado_civil'].value_counts()"
      ],
      "execution_count": null,
      "outputs": [
        {
          "output_type": "execute_result",
          "data": {
            "text/plain": [
              "casado      20\n",
              "solteiro    16\n",
              "Name: estado_civil, dtype: int64"
            ]
          },
          "metadata": {
            "tags": []
          },
          "execution_count": 43
        }
      ]
    },
    {
      "cell_type": "code",
      "metadata": {
        "colab": {
          "base_uri": "https://localhost:8080/",
          "height": 292
        },
        "id": "RjSlyT9ff1BD",
        "outputId": "e829bfa2-e347-422a-c7cd-31c2c4143ceb"
      },
      "source": [
        "df['estado_civil'].value_counts().plot(kind='bar');"
      ],
      "execution_count": null,
      "outputs": [
        {
          "output_type": "display_data",
          "data": {
            "image/png": "[encoded data removed]",
            "text/plain": [
              "<Figure size 432x288 with 1 Axes>"
            ]
          },
          "metadata": {
            "tags": [],
            "needs_background": "light"
          }
        }
      ]
    },
    {
      "cell_type": "code",
      "metadata": {
        "colab": {
          "base_uri": "https://localhost:8080/"
        },
        "id": "Hq-MF2v1fqLo",
        "outputId": "ae7a10bc-dc7d-4d4e-fc14-615a9cfda793"
      },
      "source": [
        "df['estado_civil'].value_counts(normalize=True)"
      ],
      "execution_count": null,
      "outputs": [
        {
          "output_type": "execute_result",
          "data": {
            "text/plain": [
              "casado      0.555556\n",
              "solteiro    0.444444\n",
              "Name: estado_civil, dtype: float64"
            ]
          },
          "metadata": {
            "tags": []
          },
          "execution_count": 44
        }
      ]
    },
    {
      "cell_type": "code",
      "metadata": {
        "colab": {
          "base_uri": "https://localhost:8080/",
          "height": 292
        },
        "id": "WzvR6qQJf38D",
        "outputId": "08d0d9bd-de50-4dc9-a97c-3eaf20700c8d"
      },
      "source": [
        "df['estado_civil'].value_counts(normalize=True).plot(kind='bar');"
      ],
      "execution_count": null,
      "outputs": [
        {
          "output_type": "display_data",
          "data": {
            "image/png": "[encoded data removed]",
            "text/plain": [
              "<Figure size 432x288 with 1 Axes>"
            ]
          },
          "metadata": {
            "tags": [],
            "needs_background": "light"
          }
        }
      ]
    },
    {
      "cell_type": "markdown",
      "metadata": {
        "id": "wiL-yg1xcFnq"
      },
      "source": [
        "### Exercício 2\n",
        "\n",
        "Calcular as frequências absoluta e relativa para a variável `reg_procedencia` e construa os gráficos de barras."
      ]
    },
    {
      "cell_type": "code",
      "metadata": {
        "id": "kriaCQkIcMZU",
        "colab": {
          "base_uri": "https://localhost:8080/"
        },
        "outputId": "952680ba-27ec-43e2-81d2-ea4231731aea"
      },
      "source": [
        "df['reg_procedencia'].value_counts()"
      ],
      "execution_count": null,
      "outputs": [
        {
          "output_type": "execute_result",
          "data": {
            "text/plain": [
              "outra       13\n",
              "interior    12\n",
              "capital     11\n",
              "Name: reg_procedencia, dtype: int64"
            ]
          },
          "metadata": {
            "tags": []
          },
          "execution_count": 47
        }
      ]
    },
    {
      "cell_type": "code",
      "metadata": {
        "colab": {
          "base_uri": "https://localhost:8080/",
          "height": 292
        },
        "id": "xDUAjDCkgH_n",
        "outputId": "161ae929-9484-4b38-d050-d71072c78a52"
      },
      "source": [
        "df['reg_procedencia'].value_counts().plot(kind='bar');"
      ],
      "execution_count": null,
      "outputs": [
        {
          "output_type": "display_data",
          "data": {
            "image/png": "[encoded data removed]",
            "text/plain": [
              "<Figure size 432x288 with 1 Axes>"
            ]
          },
          "metadata": {
            "tags": [],
            "needs_background": "light"
          }
        }
      ]
    },
    {
      "cell_type": "code",
      "metadata": {
        "colab": {
          "base_uri": "https://localhost:8080/"
        },
        "id": "5lsG_SO5gKMc",
        "outputId": "aa571874-65b9-4b26-c6ac-4590a78687a6"
      },
      "source": [
        "df['reg_procedencia'].value_counts(normalize=True)"
      ],
      "execution_count": null,
      "outputs": [
        {
          "output_type": "execute_result",
          "data": {
            "text/plain": [
              "outra       0.361111\n",
              "interior    0.333333\n",
              "capital     0.305556\n",
              "Name: reg_procedencia, dtype: float64"
            ]
          },
          "metadata": {
            "tags": []
          },
          "execution_count": 49
        }
      ]
    },
    {
      "cell_type": "code",
      "metadata": {
        "colab": {
          "base_uri": "https://localhost:8080/",
          "height": 292
        },
        "id": "yxqYfd7_gL9F",
        "outputId": "be0179d8-a01d-4004-d06f-3bff7c71b5d2"
      },
      "source": [
        "df['reg_procedencia'].value_counts(normalize=True).plot(kind='bar');"
      ],
      "execution_count": null,
      "outputs": [
        {
          "output_type": "display_data",
          "data": {
            "image/png": "[encoded data removed]",
            "text/plain": [
              "<Figure size 432x288 with 1 Axes>"
            ]
          },
          "metadata": {
            "tags": [],
            "needs_background": "light"
          }
        }
      ]
    },
    {
      "cell_type": "markdown",
      "metadata": {
        "id": "WyS0fnrFd-sW"
      },
      "source": [
        "## Variáveis Quantitativas"
      ]
    },
    {
      "cell_type": "code",
      "metadata": {
        "colab": {
          "base_uri": "https://localhost:8080/",
          "height": 284
        },
        "id": "nu5w5P5aeAcW",
        "outputId": "7409d47b-9707-4319-d4d5-5e79f73bf541"
      },
      "source": [
        "df.describe()"
      ],
      "execution_count": null,
      "outputs": [
        {
          "output_type": "execute_result",
          "data": {
            "text/html": [
              "<div>\n",
              "<style scoped>\n",
              "    .dataframe tbody tr th:only-of-type {\n",
              "        vertical-align: middle;\n",
              "    }\n",
              "\n",
              "    .dataframe tbody tr th {\n",
              "        vertical-align: top;\n",
              "    }\n",
              "\n",
              "    .dataframe thead th {\n",
              "        text-align: right;\n",
              "    }\n",
              "</style>\n",
              "<table border=\"1\" class=\"dataframe\">\n",
              "  <thead>\n",
              "    <tr style=\"text-align: right;\">\n",
              "      <th></th>\n",
              "      <th>N</th>\n",
              "      <th>n_filhos</th>\n",
              "      <th>salario</th>\n",
              "      <th>idade_anos</th>\n",
              "    </tr>\n",
              "  </thead>\n",
              "  <tbody>\n",
              "    <tr>\n",
              "      <th>count</th>\n",
              "      <td>36.000000</td>\n",
              "      <td>20.000000</td>\n",
              "      <td>36.000000</td>\n",
              "      <td>36.000000</td>\n",
              "    </tr>\n",
              "    <tr>\n",
              "      <th>mean</th>\n",
              "      <td>18.500000</td>\n",
              "      <td>1.650000</td>\n",
              "      <td>11.122222</td>\n",
              "      <td>34.583333</td>\n",
              "    </tr>\n",
              "    <tr>\n",
              "      <th>std</th>\n",
              "      <td>10.535654</td>\n",
              "      <td>1.268028</td>\n",
              "      <td>4.587458</td>\n",
              "      <td>6.737422</td>\n",
              "    </tr>\n",
              "    <tr>\n",
              "      <th>min</th>\n",
              "      <td>1.000000</td>\n",
              "      <td>0.000000</td>\n",
              "      <td>4.000000</td>\n",
              "      <td>20.000000</td>\n",
              "    </tr>\n",
              "    <tr>\n",
              "      <th>25%</th>\n",
              "      <td>9.750000</td>\n",
              "      <td>1.000000</td>\n",
              "      <td>7.552500</td>\n",
              "      <td>30.000000</td>\n",
              "    </tr>\n",
              "    <tr>\n",
              "      <th>50%</th>\n",
              "      <td>18.500000</td>\n",
              "      <td>2.000000</td>\n",
              "      <td>10.165000</td>\n",
              "      <td>34.500000</td>\n",
              "    </tr>\n",
              "    <tr>\n",
              "      <th>75%</th>\n",
              "      <td>27.250000</td>\n",
              "      <td>2.000000</td>\n",
              "      <td>14.060000</td>\n",
              "      <td>40.000000</td>\n",
              "    </tr>\n",
              "    <tr>\n",
              "      <th>max</th>\n",
              "      <td>36.000000</td>\n",
              "      <td>5.000000</td>\n",
              "      <td>23.300000</td>\n",
              "      <td>48.000000</td>\n",
              "    </tr>\n",
              "  </tbody>\n",
              "</table>\n",
              "</div>"
            ],
            "text/plain": [
              "               N   n_filhos    salario  idade_anos\n",
              "count  36.000000  20.000000  36.000000   36.000000\n",
              "mean   18.500000   1.650000  11.122222   34.583333\n",
              "std    10.535654   1.268028   4.587458    6.737422\n",
              "min     1.000000   0.000000   4.000000   20.000000\n",
              "25%     9.750000   1.000000   7.552500   30.000000\n",
              "50%    18.500000   2.000000  10.165000   34.500000\n",
              "75%    27.250000   2.000000  14.060000   40.000000\n",
              "max    36.000000   5.000000  23.300000   48.000000"
            ]
          },
          "metadata": {
            "tags": []
          },
          "execution_count": 15
        }
      ]
    },
    {
      "cell_type": "code",
      "metadata": {
        "colab": {
          "base_uri": "https://localhost:8080/"
        },
        "id": "v96GHqoBeFh8",
        "outputId": "d3273964-b7f6-460c-c60d-62edca454e16"
      },
      "source": [
        "df['salario'].describe()"
      ],
      "execution_count": null,
      "outputs": [
        {
          "output_type": "execute_result",
          "data": {
            "text/plain": [
              "count    36.000000\n",
              "mean     11.122222\n",
              "std       4.587458\n",
              "min       4.000000\n",
              "25%       7.552500\n",
              "50%      10.165000\n",
              "75%      14.060000\n",
              "max      23.300000\n",
              "Name: salario, dtype: float64"
            ]
          },
          "metadata": {
            "tags": []
          },
          "execution_count": 16
        }
      ]
    },
    {
      "cell_type": "markdown",
      "metadata": {
        "id": "BS8-LyHUiAJN"
      },
      "source": [
        "### Boxplot"
      ]
    },
    {
      "cell_type": "code",
      "metadata": {
        "colab": {
          "base_uri": "https://localhost:8080/",
          "height": 265
        },
        "id": "PdrExb-_eXYv",
        "outputId": "3b120eb5-e6c2-4d0e-b7ee-f1f4c1f67b3c"
      },
      "source": [
        "df['salario'].plot(kind='box');"
      ],
      "execution_count": null,
      "outputs": [
        {
          "output_type": "display_data",
          "data": {
            "image/png": "[encoded data removed]",
            "text/plain": [
              "<Figure size 432x288 with 1 Axes>"
            ]
          },
          "metadata": {
            "tags": [],
            "needs_background": "light"
          }
        }
      ]
    },
    {
      "cell_type": "code",
      "metadata": {
        "colab": {
          "base_uri": "https://localhost:8080/"
        },
        "id": "6BvBznFjeyii",
        "outputId": "af748eda-6abb-4744-bec8-856933135f58"
      },
      "source": [
        "# Quartis: Q1 e Q3\n",
        "Q1 = np.quantile(df['salario'], 0.25)\n",
        "Q3 = np.quantile(df['salario'], 0.75)\n",
        "\n",
        "intervalo_IQ = Q3 - Q1\n",
        "\n",
        "lim_sup = Q3 + 1.5 * intervalo_IQ\n",
        "lim_inf = Q1 - 1.5 * intervalo_IQ\n",
        "\n",
        "print(f\"Primeiro Quartil = {Q1}\")\n",
        "print(f\"Terceiro Quartil = {Q3}\")\n",
        "print(f\"Limite Superior  = {lim_sup}\")\n",
        "print(f\"Limite Inferior  = {lim_inf}\")"
      ],
      "execution_count": null,
      "outputs": [
        {
          "output_type": "stream",
          "text": [
            "Primeiro Quartil = 7.5525\n",
            "Terceiro Quartil = 14.059999999999999\n",
            "Limite Superior  = 23.821249999999996\n",
            "Limite Inferior  = -2.2087499999999967\n"
          ],
          "name": "stdout"
        }
      ]
    },
    {
      "cell_type": "markdown",
      "metadata": {
        "id": "KFFhkq0vgIfN"
      },
      "source": [
        "### Exercício 3\n",
        "\n",
        "Calcular as estatísticas para a variável `idade_anos` e obter o boxplot, juntamente com o primeiro e terceiro quartil, intervalo inter-quartil e limites inferiores e superiores."
      ]
    },
    {
      "cell_type": "code",
      "metadata": {
        "id": "ApBXlSQpfov4",
        "colab": {
          "base_uri": "https://localhost:8080/"
        },
        "outputId": "affea788-46d7-439b-9325-f291b86dbc0e"
      },
      "source": [
        "df['idade_anos'].describe()"
      ],
      "execution_count": null,
      "outputs": [
        {
          "output_type": "execute_result",
          "data": {
            "text/plain": [
              "count    36.000000\n",
              "mean     34.583333\n",
              "std       6.737422\n",
              "min      20.000000\n",
              "25%      30.000000\n",
              "50%      34.500000\n",
              "75%      40.000000\n",
              "max      48.000000\n",
              "Name: idade_anos, dtype: float64"
            ]
          },
          "metadata": {
            "tags": []
          },
          "execution_count": 51
        }
      ]
    },
    {
      "cell_type": "code",
      "metadata": {
        "colab": {
          "base_uri": "https://localhost:8080/",
          "height": 266
        },
        "id": "dTDToWMyhVyq",
        "outputId": "9889b5ae-4724-4a10-e090-edec0975d380"
      },
      "source": [
        "df['idade_anos'].plot(kind='box');"
      ],
      "execution_count": null,
      "outputs": [
        {
          "output_type": "display_data",
          "data": {
            "image/png": "[encoded data removed]",
            "text/plain": [
              "<Figure size 432x288 with 1 Axes>"
            ]
          },
          "metadata": {
            "tags": [],
            "needs_background": "light"
          }
        }
      ]
    },
    {
      "cell_type": "markdown",
      "metadata": {
        "id": "hFInRfjNghI3"
      },
      "source": [
        "### Exercício 4\n",
        "\n",
        "Calcular as estatísticas para a variável `n_filhos` e obter o boxplot, juntamente com o primeiro e terceiro quartil, intervalo inter-quartil e limites inferiores e superiores.\n",
        "\n",
        "dica: se a variável conter missing values, utilizar a função `np.nanquantile()`"
      ]
    },
    {
      "cell_type": "code",
      "metadata": {
        "id": "fB6RXRojgqTX",
        "colab": {
          "base_uri": "https://localhost:8080/"
        },
        "outputId": "adac8e2c-b416-49a4-a184-c05c5643da0b"
      },
      "source": [
        "df['n_filhos'].describe()"
      ],
      "execution_count": null,
      "outputs": [
        {
          "output_type": "execute_result",
          "data": {
            "text/plain": [
              "count    20.000000\n",
              "mean      1.650000\n",
              "std       1.268028\n",
              "min       0.000000\n",
              "25%       1.000000\n",
              "50%       2.000000\n",
              "75%       2.000000\n",
              "max       5.000000\n",
              "Name: n_filhos, dtype: float64"
            ]
          },
          "metadata": {
            "tags": []
          },
          "execution_count": 54
        }
      ]
    },
    {
      "cell_type": "code",
      "metadata": {
        "colab": {
          "base_uri": "https://localhost:8080/",
          "height": 266
        },
        "id": "H6BTGbplhhIj",
        "outputId": "992c6cc2-852a-4c23-d823-fff50c5ac628"
      },
      "source": [
        "df['n_filhos'].plot(kind='box');"
      ],
      "execution_count": null,
      "outputs": [
        {
          "output_type": "display_data",
          "data": {
            "image/png": "[encoded data removed]",
            "text/plain": [
              "<Figure size 432x288 with 1 Axes>"
            ]
          },
          "metadata": {
            "tags": [],
            "needs_background": "light"
          }
        }
      ]
    },
    {
      "cell_type": "code",
      "metadata": {
        "colab": {
          "base_uri": "https://localhost:8080/"
        },
        "id": "r6kSyw6zhkV7",
        "outputId": "189b71b7-328a-426a-f32b-8efdf130bf36"
      },
      "source": [
        "# Quartis: Q1 e Q3\n",
        "Q1 = np.nanquantile(df['n_filhos'], 0.25)\n",
        "Q3 = np.nanquantile(df['n_filhos'], 0.75)\n",
        "\n",
        "intervalo_IQ = Q3 - Q1\n",
        "\n",
        "lim_sup = Q3 + 1.5 * intervalo_IQ\n",
        "lim_inf = Q1 - 1.5 * intervalo_IQ\n",
        "\n",
        "print(f\"Primeiro Quartil = {Q1}\")\n",
        "print(f\"Terceiro Quartil = {Q3}\")\n",
        "print(f\"Limite Superior  = {lim_sup}\")\n",
        "print(f\"Limite Inferior  = {lim_inf}\")"
      ],
      "execution_count": null,
      "outputs": [
        {
          "output_type": "stream",
          "text": [
            "Primeiro Quartil = 1.0\n",
            "Terceiro Quartil = 2.0\n",
            "Limite Superior  = 3.5\n",
            "Limite Inferior  = -0.5\n"
          ],
          "name": "stdout"
        }
      ]
    },
    {
      "cell_type": "markdown",
      "metadata": {
        "id": "_9va6IbZiF7n"
      },
      "source": [
        "### Histograma"
      ]
    },
    {
      "cell_type": "code",
      "metadata": {
        "colab": {
          "base_uri": "https://localhost:8080/",
          "height": 279
        },
        "id": "YqVySLDIhvsu",
        "outputId": "a4a7a199-0b2e-4015-a8d1-6a5bfc71385c"
      },
      "source": [
        "# Vamos utilizar a funçaõ `histplot` do seaborn\n",
        "import seaborn as sns\n",
        "\n",
        "sns.\n",
        "(data=df, x='salario', kde=True);"
      ],
      "execution_count": null,
      "outputs": [
        {
          "output_type": "display_data",
          "data": {
            "image/png": "[encoded data removed]",
            "text/plain": [
              "<Figure size 432x288 with 1 Axes>"
            ]
          },
          "metadata": {
            "tags": [],
            "needs_background": "light"
          }
        }
      ]
    },
    {
      "cell_type": "markdown",
      "metadata": {
        "id": "D3S8Hf9QkiMq"
      },
      "source": [
        "### Exercício 5\n",
        "Construa os histogramas para as variávels `idade_anos` e `n_filhos`."
      ]
    },
    {
      "cell_type": "code",
      "metadata": {
        "id": "-Q6-soNhiRx4",
        "colab": {
          "base_uri": "https://localhost:8080/",
          "height": 280
        },
        "outputId": "0f63c42a-1c0c-4717-8411-d2dddd43020c"
      },
      "source": [
        ",   sns.histplot(data=df, x='idade_anos', kde=True);"
      ],
      "execution_count": null,
      "outputs": [
        {
          "output_type": "display_data",
          "data": {
            "image/png": "[encoded data removed]",
            "text/plain": [
              "<Figure size 432x288 with 1 Axes>"
            ]
          },
          "metadata": {
            "tags": [],
            "needs_background": "light"
          }
        }
      ]
    },
    {
      "cell_type": "code",
      "metadata": {
        "colab": {
          "base_uri": "https://localhost:8080/",
          "height": 280
        },
        "id": "Wone_Ja8ioc1",
        "outputId": "c0d483bc-ad15-4671-c8af-2edf7aa44874"
      },
      "source": [
        "sns.histplot(data=df, x='n_filhos', kde=True);"
      ],
      "execution_count": null,
      "outputs": [
        {
          "output_type": "display_data",
          "data": {
            "image/png": "[encoded data removed]",
            "text/plain": [
              "<Figure size 432x288 with 1 Axes>"
            ]
          },
          "metadata": {
            "tags": [],
            "needs_background": "light"
          }
        }
      ]
    },
    {
      "cell_type": "code",
      "metadata": {
        "colab": {
          "base_uri": "https://localhost:8080/",
          "height": 280
        },
        "id": "rWbue1jziz_T",
        "outputId": "1767fe63-f60a-49e8-a8c1-fdb8ad41ca84"
      },
      "source": [
        "import matplotlib.pyplot as plt\n",
        "import seaborn as sns\n",
        "\n",
        "fig, ax = plt.subplots(ncols=2, nrows=1, figsize=(10, 4))\n",
        "\n",
        "sns.histplot(data=df, x='idade_anos', kde=True, ax=ax[0]);\n",
        "sns.histplot(data=df, x='n_filhos', kde=True, ax=ax[1]);"
      ],
      "execution_count": null,
      "outputs": [
        {
          "output_type": "display_data",
          "data": {
            "image/png": "[encoded data removed]",
            "text/plain": [
              "<Figure size 720x288 with 2 Axes>"
            ]
          },
          "metadata": {
            "tags": [],
            "needs_background": "light"
          }
        }
      ]
    },
    {
      "cell_type": "code",
      "metadata": {
        "colab": {
          "base_uri": "https://localhost:8080/"
        },
        "id": "ZAX3bDx3JhoL",
        "outputId": "dfa4d304-c28a-4b46-fbea-f73aad121676"
      },
      "source": [
        "from google.colab import drive\n",
        "drive.mount('/content/drive')"
      ],
      "execution_count": null,
      "outputs": [
        {
          "output_type": "stream",
          "text": [
            "Mounted at /content/drive\n"
          ],
          "name": "stdout"
        }
      ]
    },
    {
      "cell_type": "markdown",
      "metadata": {
        "id": "41yxSy3qksEz"
      },
      "source": [
        "# Análise Bivariada\n",
        "\n",
        "**Continuar a próxima aula a partir daqui.**\n",
        "\n",
        "Para análise bivariada, a biblioteca `seaborn` oferece excelentes gráficos!"
      ]
    },
    {
      "cell_type": "markdown",
      "metadata": {
        "id": "d5NuFf9tkxHc"
      },
      "source": [
        "## Qualitativa x Qualitativa"
      ]
    },
    {
      "cell_type": "markdown",
      "metadata": {
        "id": "xQQRdwFBMagw"
      },
      "source": [
        "### Tabela de frequências cruzadas"
      ]
    },
    {
      "cell_type": "code",
      "metadata": {
        "id": "ZBNacDC_kwiM",
        "colab": {
          "base_uri": "https://localhost:8080/",
          "height": 136
        },
        "outputId": "845fa528-d757-486e-c9c8-c14a466deb4f"
      },
      "source": [
        "# Tabela de frequências cruzadas (Tabela de contingência)\n",
        "pd.crosstab(df['estado_civil'], df['grau_instrucao'])"
      ],
      "execution_count": null,
      "outputs": [
        {
          "output_type": "execute_result",
          "data": {
            "text/html": [
              "<div>\n",
              "<style scoped>\n",
              "    .dataframe tbody tr th:only-of-type {\n",
              "        vertical-align: middle;\n",
              "    }\n",
              "\n",
              "    .dataframe tbody tr th {\n",
              "        vertical-align: top;\n",
              "    }\n",
              "\n",
              "    .dataframe thead th {\n",
              "        text-align: right;\n",
              "    }\n",
              "</style>\n",
              "<table border=\"1\" class=\"dataframe\">\n",
              "  <thead>\n",
              "    <tr style=\"text-align: right;\">\n",
              "      <th>grau_instrucao</th>\n",
              "      <th>1-ensino fundamental</th>\n",
              "      <th>2-ensino medio</th>\n",
              "      <th>3-superior</th>\n",
              "    </tr>\n",
              "    <tr>\n",
              "      <th>estado_civil</th>\n",
              "      <th></th>\n",
              "      <th></th>\n",
              "      <th></th>\n",
              "    </tr>\n",
              "  </thead>\n",
              "  <tbody>\n",
              "    <tr>\n",
              "      <th>casado</th>\n",
              "      <td>5</td>\n",
              "      <td>12</td>\n",
              "      <td>3</td>\n",
              "    </tr>\n",
              "    <tr>\n",
              "      <th>solteiro</th>\n",
              "      <td>7</td>\n",
              "      <td>6</td>\n",
              "      <td>3</td>\n",
              "    </tr>\n",
              "  </tbody>\n",
              "</table>\n",
              "</div>"
            ],
            "text/plain": [
              "grau_instrucao  1-ensino fundamental  2-ensino medio  3-superior\n",
              "estado_civil                                                    \n",
              "casado                             5              12           3\n",
              "solteiro                           7               6           3"
            ]
          },
          "metadata": {
            "tags": []
          },
          "execution_count": 20
        }
      ]
    },
    {
      "cell_type": "code",
      "metadata": {
        "colab": {
          "base_uri": "https://localhost:8080/",
          "height": 136
        },
        "id": "02nF9iavOBtC",
        "outputId": "7780b51c-3cb9-404a-8b6b-5ce3b5aa874c"
      },
      "source": [
        "# Tabela de contingência (relativo a linha): Estado Civil e Grau de Instrução\n",
        "pd.crosstab(df['estado_civil'], df['grau_instrucao'], normalize='index')"
      ],
      "execution_count": null,
      "outputs": [
        {
          "output_type": "execute_result",
          "data": {
            "text/html": [
              "<div>\n",
              "<style scoped>\n",
              "    .dataframe tbody tr th:only-of-type {\n",
              "        vertical-align: middle;\n",
              "    }\n",
              "\n",
              "    .dataframe tbody tr th {\n",
              "        vertical-align: top;\n",
              "    }\n",
              "\n",
              "    .dataframe thead th {\n",
              "        text-align: right;\n",
              "    }\n",
              "</style>\n",
              "<table border=\"1\" class=\"dataframe\">\n",
              "  <thead>\n",
              "    <tr style=\"text-align: right;\">\n",
              "      <th>grau_instrucao</th>\n",
              "      <th>1-ensino fundamental</th>\n",
              "      <th>2-ensino medio</th>\n",
              "      <th>3-superior</th>\n",
              "    </tr>\n",
              "    <tr>\n",
              "      <th>estado_civil</th>\n",
              "      <th></th>\n",
              "      <th></th>\n",
              "      <th></th>\n",
              "    </tr>\n",
              "  </thead>\n",
              "  <tbody>\n",
              "    <tr>\n",
              "      <th>casado</th>\n",
              "      <td>0.2500</td>\n",
              "      <td>0.600</td>\n",
              "      <td>0.1500</td>\n",
              "    </tr>\n",
              "    <tr>\n",
              "      <th>solteiro</th>\n",
              "      <td>0.4375</td>\n",
              "      <td>0.375</td>\n",
              "      <td>0.1875</td>\n",
              "    </tr>\n",
              "  </tbody>\n",
              "</table>\n",
              "</div>"
            ],
            "text/plain": [
              "grau_instrucao  1-ensino fundamental  2-ensino medio  3-superior\n",
              "estado_civil                                                    \n",
              "casado                        0.2500           0.600      0.1500\n",
              "solteiro                      0.4375           0.375      0.1875"
            ]
          },
          "metadata": {
            "tags": []
          },
          "execution_count": 24
        }
      ]
    },
    {
      "cell_type": "code",
      "metadata": {
        "colab": {
          "base_uri": "https://localhost:8080/",
          "height": 307
        },
        "id": "ms0iOO58OO9r",
        "outputId": "15a81cee-e973-4808-9a0c-543512232c4b"
      },
      "source": [
        "# Gráfico de barras empilhadas usando plot, tipo = gráfico de barra\n",
        "tab_perc = pd.crosstab(df['estado_civil'], df['grau_instrucao'], normalize='index')\n",
        "tab_perc.plot(kind='bar', stacked=True);"
      ],
      "execution_count": null,
      "outputs": [
        {
          "output_type": "display_data",
          "data": {
            "image/png": "[encoded data removed]",
            "text/plain": [
              "<Figure size 432x288 with 1 Axes>"
            ]
          },
          "metadata": {
            "tags": [],
            "needs_background": "light"
          }
        }
      ]
    },
    {
      "cell_type": "code",
      "metadata": {
        "colab": {
          "base_uri": "https://localhost:8080/",
          "height": 166
        },
        "id": "N2scBkE9N3ZG",
        "outputId": "da29cb67-9af5-4193-d6fb-d33dd2539bf1"
      },
      "source": [
        "# Tabela de contingência (relativo a linha): Grau de Instrução e Estado Civil\n",
        "pd.crosstab(df['grau_instrucao'], df['estado_civil'], normalize='index')"
      ],
      "execution_count": null,
      "outputs": [
        {
          "output_type": "execute_result",
          "data": {
            "text/html": [
              "<div>\n",
              "<style scoped>\n",
              "    .dataframe tbody tr th:only-of-type {\n",
              "        vertical-align: middle;\n",
              "    }\n",
              "\n",
              "    .dataframe tbody tr th {\n",
              "        vertical-align: top;\n",
              "    }\n",
              "\n",
              "    .dataframe thead th {\n",
              "        text-align: right;\n",
              "    }\n",
              "</style>\n",
              "<table border=\"1\" class=\"dataframe\">\n",
              "  <thead>\n",
              "    <tr style=\"text-align: right;\">\n",
              "      <th>estado_civil</th>\n",
              "      <th>casado</th>\n",
              "      <th>solteiro</th>\n",
              "    </tr>\n",
              "    <tr>\n",
              "      <th>grau_instrucao</th>\n",
              "      <th></th>\n",
              "      <th></th>\n",
              "    </tr>\n",
              "  </thead>\n",
              "  <tbody>\n",
              "    <tr>\n",
              "      <th>1-ensino fundamental</th>\n",
              "      <td>0.416667</td>\n",
              "      <td>0.583333</td>\n",
              "    </tr>\n",
              "    <tr>\n",
              "      <th>2-ensino medio</th>\n",
              "      <td>0.666667</td>\n",
              "      <td>0.333333</td>\n",
              "    </tr>\n",
              "    <tr>\n",
              "      <th>3-superior</th>\n",
              "      <td>0.500000</td>\n",
              "      <td>0.500000</td>\n",
              "    </tr>\n",
              "  </tbody>\n",
              "</table>\n",
              "</div>"
            ],
            "text/plain": [
              "estado_civil            casado  solteiro\n",
              "grau_instrucao                          \n",
              "1-ensino fundamental  0.416667  0.583333\n",
              "2-ensino medio        0.666667  0.333333\n",
              "3-superior            0.500000  0.500000"
            ]
          },
          "metadata": {
            "tags": []
          },
          "execution_count": 27
        }
      ]
    },
    {
      "cell_type": "markdown",
      "metadata": {
        "id": "URjmq6_COqlM"
      },
      "source": [
        "### Exercício 6\n",
        "\n",
        "Realize a análise para as variáveis `grau_instrucao` e `reg_procedencia`"
      ]
    },
    {
      "cell_type": "code",
      "metadata": {
        "id": "gPTLJ8YWO7nr",
        "colab": {
          "base_uri": "https://localhost:8080/",
          "height": 166
        },
        "outputId": "f429dac6-e4dd-4fe7-c41d-33e7f9e86a35"
      },
      "source": [
        "pd.crosstab(df['reg_procedencia'], df['grau_instrucao'])"
      ],
      "execution_count": null,
      "outputs": [
        {
          "output_type": "execute_result",
          "data": {
            "text/html": [
              "<div>\n",
              "<style scoped>\n",
              "    .dataframe tbody tr th:only-of-type {\n",
              "        vertical-align: middle;\n",
              "    }\n",
              "\n",
              "    .dataframe tbody tr th {\n",
              "        vertical-align: top;\n",
              "    }\n",
              "\n",
              "    .dataframe thead th {\n",
              "        text-align: right;\n",
              "    }\n",
              "</style>\n",
              "<table border=\"1\" class=\"dataframe\">\n",
              "  <thead>\n",
              "    <tr style=\"text-align: right;\">\n",
              "      <th>grau_instrucao</th>\n",
              "      <th>1-ensino fundamental</th>\n",
              "      <th>2-ensino medio</th>\n",
              "      <th>3-superior</th>\n",
              "    </tr>\n",
              "    <tr>\n",
              "      <th>reg_procedencia</th>\n",
              "      <th></th>\n",
              "      <th></th>\n",
              "      <th></th>\n",
              "    </tr>\n",
              "  </thead>\n",
              "  <tbody>\n",
              "    <tr>\n",
              "      <th>capital</th>\n",
              "      <td>4</td>\n",
              "      <td>5</td>\n",
              "      <td>2</td>\n",
              "    </tr>\n",
              "    <tr>\n",
              "      <th>interior</th>\n",
              "      <td>3</td>\n",
              "      <td>7</td>\n",
              "      <td>2</td>\n",
              "    </tr>\n",
              "    <tr>\n",
              "      <th>outra</th>\n",
              "      <td>5</td>\n",
              "      <td>6</td>\n",
              "      <td>2</td>\n",
              "    </tr>\n",
              "  </tbody>\n",
              "</table>\n",
              "</div>"
            ],
            "text/plain": [
              "grau_instrucao   1-ensino fundamental  2-ensino medio  3-superior\n",
              "reg_procedencia                                                  \n",
              "capital                             4               5           2\n",
              "interior                            3               7           2\n",
              "outra                               5               6           2"
            ]
          },
          "metadata": {
            "tags": []
          },
          "execution_count": 75
        }
      ]
    },
    {
      "cell_type": "code",
      "metadata": {
        "colab": {
          "base_uri": "https://localhost:8080/",
          "height": 166
        },
        "id": "o_N8L4_ljsQh",
        "outputId": "e9ae296a-d403-4899-a998-e3bdaec1edab"
      },
      "source": [
        "np.round(pd.crosstab(df['reg_procedencia'], df['grau_instrucao'], normalize='index'), 2)"
      ],
      "execution_count": null,
      "outputs": [
        {
          "output_type": "execute_result",
          "data": {
            "text/html": [
              "<div>\n",
              "<style scoped>\n",
              "    .dataframe tbody tr th:only-of-type {\n",
              "        vertical-align: middle;\n",
              "    }\n",
              "\n",
              "    .dataframe tbody tr th {\n",
              "        vertical-align: top;\n",
              "    }\n",
              "\n",
              "    .dataframe thead th {\n",
              "        text-align: right;\n",
              "    }\n",
              "</style>\n",
              "<table border=\"1\" class=\"dataframe\">\n",
              "  <thead>\n",
              "    <tr style=\"text-align: right;\">\n",
              "      <th>grau_instrucao</th>\n",
              "      <th>1-ensino fundamental</th>\n",
              "      <th>2-ensino medio</th>\n",
              "      <th>3-superior</th>\n",
              "    </tr>\n",
              "    <tr>\n",
              "      <th>reg_procedencia</th>\n",
              "      <th></th>\n",
              "      <th></th>\n",
              "      <th></th>\n",
              "    </tr>\n",
              "  </thead>\n",
              "  <tbody>\n",
              "    <tr>\n",
              "      <th>capital</th>\n",
              "      <td>0.36</td>\n",
              "      <td>0.45</td>\n",
              "      <td>0.18</td>\n",
              "    </tr>\n",
              "    <tr>\n",
              "      <th>interior</th>\n",
              "      <td>0.25</td>\n",
              "      <td>0.58</td>\n",
              "      <td>0.17</td>\n",
              "    </tr>\n",
              "    <tr>\n",
              "      <th>outra</th>\n",
              "      <td>0.38</td>\n",
              "      <td>0.46</td>\n",
              "      <td>0.15</td>\n",
              "    </tr>\n",
              "  </tbody>\n",
              "</table>\n",
              "</div>"
            ],
            "text/plain": [
              "grau_instrucao   1-ensino fundamental  2-ensino medio  3-superior\n",
              "reg_procedencia                                                  \n",
              "capital                          0.36            0.45        0.18\n",
              "interior                         0.25            0.58        0.17\n",
              "outra                            0.38            0.46        0.15"
            ]
          },
          "metadata": {
            "tags": []
          },
          "execution_count": 79
        }
      ]
    },
    {
      "cell_type": "code",
      "metadata": {
        "colab": {
          "base_uri": "https://localhost:8080/",
          "height": 307
        },
        "id": "XPZVERp3j4lG",
        "outputId": "d947d529-b17d-4983-b1b7-8dda760401d5"
      },
      "source": [
        "pd.crosstab(df['reg_procedencia'], df['grau_instrucao'], normalize='index').plot(kind='bar', stacked=True);"
      ],
      "execution_count": null,
      "outputs": [
        {
          "output_type": "display_data",
          "data": {
            "image/png": "[encoded data removed]",
            "text/plain": [
              "<Figure size 432x288 with 1 Axes>"
            ]
          },
          "metadata": {
            "tags": [],
            "needs_background": "light"
          }
        }
      ]
    },
    {
      "cell_type": "markdown",
      "metadata": {
        "id": "VrnK2S_Yk228"
      },
      "source": [
        "## Qualitativa x Quantitativa"
      ]
    },
    {
      "cell_type": "markdown",
      "metadata": {
        "id": "KCtbjXC0Qr3w"
      },
      "source": [
        "### Medidas Resumo \n",
        "\n",
        "Medidas resumo da variável quantitativa para cada valor da variável qualitativa"
      ]
    },
    {
      "cell_type": "code",
      "metadata": {
        "id": "rOiFR_SZk5GB",
        "colab": {
          "base_uri": "https://localhost:8080/",
          "height": 195
        },
        "outputId": "74d034a3-503a-4545-e434-f02fd7c826f9"
      },
      "source": [
        "# definindo função do modo tradicional\n",
        "def q1(x):return x.quantile(0.25)\n",
        "def q3(x):return x.quantile(0.75)\n",
        "\n",
        "# definindo funções usando lambda expressions\n",
        "#q1 = lambda x: x.quantile(0.25)\n",
        "#q2 = lambda x: x.quantile(0.75)\n",
        "\n",
        "# agregando do jeito tradicional\n",
        "df.groupby(['grau_instrucao']).agg({'salario':['sum', 'min', 'mean', q1, 'median', q3, 'max', 'var', 'std']})"
      ],
      "execution_count": null,
      "outputs": [
        {
          "output_type": "execute_result",
          "data": {
            "text/html": [
              "<div>\n",
              "<style scoped>\n",
              "    .dataframe tbody tr th:only-of-type {\n",
              "        vertical-align: middle;\n",
              "    }\n",
              "\n",
              "    .dataframe tbody tr th {\n",
              "        vertical-align: top;\n",
              "    }\n",
              "\n",
              "    .dataframe thead tr th {\n",
              "        text-align: left;\n",
              "    }\n",
              "\n",
              "    .dataframe thead tr:last-of-type th {\n",
              "        text-align: right;\n",
              "    }\n",
              "</style>\n",
              "<table border=\"1\" class=\"dataframe\">\n",
              "  <thead>\n",
              "    <tr>\n",
              "      <th></th>\n",
              "      <th colspan=\"9\" halign=\"left\">salario</th>\n",
              "    </tr>\n",
              "    <tr>\n",
              "      <th></th>\n",
              "      <th>sum</th>\n",
              "      <th>min</th>\n",
              "      <th>mean</th>\n",
              "      <th>q1</th>\n",
              "      <th>median</th>\n",
              "      <th>q3</th>\n",
              "      <th>max</th>\n",
              "      <th>var</th>\n",
              "      <th>std</th>\n",
              "    </tr>\n",
              "    <tr>\n",
              "      <th>grau_instrucao</th>\n",
              "      <th></th>\n",
              "      <th></th>\n",
              "      <th></th>\n",
              "      <th></th>\n",
              "      <th></th>\n",
              "      <th></th>\n",
              "      <th></th>\n",
              "      <th></th>\n",
              "      <th></th>\n",
              "    </tr>\n",
              "  </thead>\n",
              "  <tbody>\n",
              "    <tr>\n",
              "      <th>1-ensino fundamental</th>\n",
              "      <td>94.04</td>\n",
              "      <td>4.00</td>\n",
              "      <td>7.836667</td>\n",
              "      <td>6.0075</td>\n",
              "      <td>7.125</td>\n",
              "      <td>9.1625</td>\n",
              "      <td>13.85</td>\n",
              "      <td>8.740679</td>\n",
              "      <td>2.956464</td>\n",
              "    </tr>\n",
              "    <tr>\n",
              "      <th>2-ensino medio</th>\n",
              "      <td>207.51</td>\n",
              "      <td>5.73</td>\n",
              "      <td>11.528333</td>\n",
              "      <td>8.8375</td>\n",
              "      <td>10.910</td>\n",
              "      <td>14.4175</td>\n",
              "      <td>19.40</td>\n",
              "      <td>13.802297</td>\n",
              "      <td>3.715144</td>\n",
              "    </tr>\n",
              "    <tr>\n",
              "      <th>3-superior</th>\n",
              "      <td>98.85</td>\n",
              "      <td>10.53</td>\n",
              "      <td>16.475000</td>\n",
              "      <td>13.6475</td>\n",
              "      <td>16.740</td>\n",
              "      <td>18.3775</td>\n",
              "      <td>23.30</td>\n",
              "      <td>20.271950</td>\n",
              "      <td>4.502438</td>\n",
              "    </tr>\n",
              "  </tbody>\n",
              "</table>\n",
              "</div>"
            ],
            "text/plain": [
              "                     salario                    ...                            \n",
              "                         sum    min       mean  ...    max        var       std\n",
              "grau_instrucao                                  ...                            \n",
              "1-ensino fundamental   94.04   4.00   7.836667  ...  13.85   8.740679  2.956464\n",
              "2-ensino medio        207.51   5.73  11.528333  ...  19.40  13.802297  3.715144\n",
              "3-superior             98.85  10.53  16.475000  ...  23.30  20.271950  4.502438\n",
              "\n",
              "[3 rows x 9 columns]"
            ]
          },
          "metadata": {
            "tags": []
          },
          "execution_count": 31
        }
      ]
    },
    {
      "cell_type": "code",
      "metadata": {
        "colab": {
          "base_uri": "https://localhost:8080/",
          "height": 136
        },
        "id": "_UK--G0xPt8u",
        "outputId": "27748e30-3c76-4904-857b-70f137130bd8"
      },
      "source": [
        "# agregando uma operação por vez, forma mais recente de se fazer agrupamentos e que permite já renomear\n",
        "# as colunas agregadas\n",
        "\n",
        "(\n",
        "    df\n",
        "    .groupby(['grau_instrucao'])\n",
        "    .agg(salario_sum    = ('salario', 'sum'),\n",
        "         salario_min    = ('salario', 'min'),\n",
        "         salario_mean   = ('salario', 'mean'),\n",
        "         salario_q1     = ('salario', q1),\n",
        "         salario_median = ('salario', 'median'),\n",
        "         salario_q3     = ('salario', q3),\n",
        "         salario_max    = ('salario', 'max'),\n",
        "         salario_var    = ('salario', 'var'),\n",
        "         salario_std    = ('salario', 'std'))\n",
        "    .reset_index()\n",
        ")"
      ],
      "execution_count": null,
      "outputs": [
        {
          "output_type": "execute_result",
          "data": {
            "text/html": [
              "<div>\n",
              "<style scoped>\n",
              "    .dataframe tbody tr th:only-of-type {\n",
              "        vertical-align: middle;\n",
              "    }\n",
              "\n",
              "    .dataframe tbody tr th {\n",
              "        vertical-align: top;\n",
              "    }\n",
              "\n",
              "    .dataframe thead th {\n",
              "        text-align: right;\n",
              "    }\n",
              "</style>\n",
              "<table border=\"1\" class=\"dataframe\">\n",
              "  <thead>\n",
              "    <tr style=\"text-align: right;\">\n",
              "      <th></th>\n",
              "      <th>grau_instrucao</th>\n",
              "      <th>salario_sum</th>\n",
              "      <th>salario_min</th>\n",
              "      <th>salario_mean</th>\n",
              "      <th>salario_q1</th>\n",
              "      <th>salario_median</th>\n",
              "      <th>salario_q3</th>\n",
              "      <th>salario_max</th>\n",
              "      <th>salario_var</th>\n",
              "      <th>salario_std</th>\n",
              "    </tr>\n",
              "  </thead>\n",
              "  <tbody>\n",
              "    <tr>\n",
              "      <th>0</th>\n",
              "      <td>1-ensino fundamental</td>\n",
              "      <td>94.04</td>\n",
              "      <td>4.00</td>\n",
              "      <td>7.836667</td>\n",
              "      <td>6.0075</td>\n",
              "      <td>7.125</td>\n",
              "      <td>9.1625</td>\n",
              "      <td>13.85</td>\n",
              "      <td>8.740679</td>\n",
              "      <td>2.956464</td>\n",
              "    </tr>\n",
              "    <tr>\n",
              "      <th>1</th>\n",
              "      <td>2-ensino medio</td>\n",
              "      <td>207.51</td>\n",
              "      <td>5.73</td>\n",
              "      <td>11.528333</td>\n",
              "      <td>8.8375</td>\n",
              "      <td>10.910</td>\n",
              "      <td>14.4175</td>\n",
              "      <td>19.40</td>\n",
              "      <td>13.802297</td>\n",
              "      <td>3.715144</td>\n",
              "    </tr>\n",
              "    <tr>\n",
              "      <th>2</th>\n",
              "      <td>3-superior</td>\n",
              "      <td>98.85</td>\n",
              "      <td>10.53</td>\n",
              "      <td>16.475000</td>\n",
              "      <td>13.6475</td>\n",
              "      <td>16.740</td>\n",
              "      <td>18.3775</td>\n",
              "      <td>23.30</td>\n",
              "      <td>20.271950</td>\n",
              "      <td>4.502438</td>\n",
              "    </tr>\n",
              "  </tbody>\n",
              "</table>\n",
              "</div>"
            ],
            "text/plain": [
              "         grau_instrucao  salario_sum  ...  salario_var  salario_std\n",
              "0  1-ensino fundamental        94.04  ...     8.740679     2.956464\n",
              "1        2-ensino medio       207.51  ...    13.802297     3.715144\n",
              "2            3-superior        98.85  ...    20.271950     4.502438\n",
              "\n",
              "[3 rows x 10 columns]"
            ]
          },
          "metadata": {
            "tags": []
          },
          "execution_count": 33
        }
      ]
    },
    {
      "cell_type": "markdown",
      "metadata": {
        "id": "8CXx9PStQ2Ja"
      },
      "source": [
        "### Boxplot"
      ]
    },
    {
      "cell_type": "code",
      "metadata": {
        "colab": {
          "base_uri": "https://localhost:8080/",
          "height": 280
        },
        "id": "x2iUBRiFQ3V_",
        "outputId": "7d163d5d-20ba-4098-c83b-1fc185a491b0"
      },
      "source": [
        "sns.boxplot(x=df['grau_instrucao'], y=df['salario']);"
      ],
      "execution_count": null,
      "outputs": [
        {
          "output_type": "display_data",
          "data": {
            "image/png": "[encoded data removed]",
            "text/plain": [
              "<Figure size 432x288 with 1 Axes>"
            ]
          },
          "metadata": {
            "tags": [],
            "needs_background": "light"
          }
        }
      ]
    },
    {
      "cell_type": "markdown",
      "metadata": {
        "id": "rTYFLA5WRMgL"
      },
      "source": [
        "### Exercício 7\n",
        "\n",
        "Realize a análise para as variáveis `estado_civil` e `idade_anos`"
      ]
    },
    {
      "cell_type": "code",
      "metadata": {
        "id": "NmwNWqg0RYD8",
        "colab": {
          "base_uri": "https://localhost:8080/",
          "height": 166
        },
        "outputId": "ee4af1b0-2ca9-4271-dcc0-eee6c4aaa684"
      },
      "source": [
        "df.groupby(['estado_civil']).agg({'idade_anos':['sum', 'min', 'mean', q1, 'median', q3, 'max', 'var', 'std']})"
      ],
      "execution_count": null,
      "outputs": [
        {
          "output_type": "execute_result",
          "data": {
            "text/html": [
              "<div>\n",
              "<style scoped>\n",
              "    .dataframe tbody tr th:only-of-type {\n",
              "        vertical-align: middle;\n",
              "    }\n",
              "\n",
              "    .dataframe tbody tr th {\n",
              "        vertical-align: top;\n",
              "    }\n",
              "\n",
              "    .dataframe thead tr th {\n",
              "        text-align: left;\n",
              "    }\n",
              "\n",
              "    .dataframe thead tr:last-of-type th {\n",
              "        text-align: right;\n",
              "    }\n",
              "</style>\n",
              "<table border=\"1\" class=\"dataframe\">\n",
              "  <thead>\n",
              "    <tr>\n",
              "      <th></th>\n",
              "      <th colspan=\"9\" halign=\"left\">idade_anos</th>\n",
              "    </tr>\n",
              "    <tr>\n",
              "      <th></th>\n",
              "      <th>sum</th>\n",
              "      <th>min</th>\n",
              "      <th>mean</th>\n",
              "      <th>q1</th>\n",
              "      <th>median</th>\n",
              "      <th>q3</th>\n",
              "      <th>max</th>\n",
              "      <th>var</th>\n",
              "      <th>std</th>\n",
              "    </tr>\n",
              "    <tr>\n",
              "      <th>estado_civil</th>\n",
              "      <th></th>\n",
              "      <th></th>\n",
              "      <th></th>\n",
              "      <th></th>\n",
              "      <th></th>\n",
              "      <th></th>\n",
              "      <th></th>\n",
              "      <th></th>\n",
              "      <th></th>\n",
              "    </tr>\n",
              "  </thead>\n",
              "  <tbody>\n",
              "    <tr>\n",
              "      <th>casado</th>\n",
              "      <td>703</td>\n",
              "      <td>26</td>\n",
              "      <td>35.150</td>\n",
              "      <td>30.75</td>\n",
              "      <td>34.5</td>\n",
              "      <td>39.25</td>\n",
              "      <td>48</td>\n",
              "      <td>34.765789</td>\n",
              "      <td>5.896252</td>\n",
              "    </tr>\n",
              "    <tr>\n",
              "      <th>solteiro</th>\n",
              "      <td>542</td>\n",
              "      <td>20</td>\n",
              "      <td>33.875</td>\n",
              "      <td>26.75</td>\n",
              "      <td>35.5</td>\n",
              "      <td>40.25</td>\n",
              "      <td>46</td>\n",
              "      <td>60.916667</td>\n",
              "      <td>7.804913</td>\n",
              "    </tr>\n",
              "  </tbody>\n",
              "</table>\n",
              "</div>"
            ],
            "text/plain": [
              "             idade_anos                     ...                                \n",
              "                    sum min    mean     q1  ...     q3 max        var       std\n",
              "estado_civil                                ...                                \n",
              "casado              703  26  35.150  30.75  ...  39.25  48  34.765789  5.896252\n",
              "solteiro            542  20  33.875  26.75  ...  40.25  46  60.916667  7.804913\n",
              "\n",
              "[2 rows x 9 columns]"
            ]
          },
          "metadata": {
            "tags": []
          },
          "execution_count": 81
        }
      ]
    },
    {
      "cell_type": "code",
      "metadata": {
        "colab": {
          "base_uri": "https://localhost:8080/",
          "height": 280
        },
        "id": "xOHTKtttkKu7",
        "outputId": "bcba44cd-4500-4d52-81c2-2bf4a03fbe4b"
      },
      "source": [
        "sns.boxplot(x=df['estado_civil'], y=df['idade_anos']);"
      ],
      "execution_count": null,
      "outputs": [
        {
          "output_type": "display_data",
          "data": {
            "image/png": "[encoded data removed]",
            "text/plain": [
              "<Figure size 432x288 with 1 Axes>"
            ]
          },
          "metadata": {
            "tags": [],
            "needs_background": "light"
          }
        }
      ]
    },
    {
      "cell_type": "markdown",
      "metadata": {
        "id": "HuDiapS4k5ka"
      },
      "source": [
        "## Quantitativa x Quantitativa"
      ]
    },
    {
      "cell_type": "markdown",
      "metadata": {
        "id": "zh6wALYyRdSA"
      },
      "source": [
        "### Gráfico de dispersão (Scatter Plot)"
      ]
    },
    {
      "cell_type": "code",
      "metadata": {
        "id": "drskS-CBk7SQ",
        "colab": {
          "base_uri": "https://localhost:8080/",
          "height": 279
        },
        "outputId": "c081230a-9fda-4811-bad4-b4a8ac5e4d63"
      },
      "source": [
        "# função scatterplot do seaborn (sns)\n",
        "sns.scatterplot(x=df['salario'], y=df['idade_anos']);"
      ],
      "execution_count": null,
      "outputs": [
        {
          "output_type": "display_data",
          "data": {
            "image/png": "[encoded data removed]",
            "text/plain": [
              "<Figure size 432x288 with 1 Axes>"
            ]
          },
          "metadata": {
            "tags": [],
            "needs_background": "light"
          }
        }
      ]
    },
    {
      "cell_type": "code",
      "metadata": {
        "colab": {
          "base_uri": "https://localhost:8080/"
        },
        "id": "BAQO_2_uRiiU",
        "outputId": "470177ca-d567-45cf-83fe-15c480d871e4"
      },
      "source": [
        "# coeficiente de correlação, usando numpy (np)\n",
        "np.corrcoef(x=df['salario'], y=df['idade_anos'])"
      ],
      "execution_count": null,
      "outputs": [
        {
          "output_type": "execute_result",
          "data": {
            "text/plain": [
              "array([[1.        , 0.36336218],\n",
              "       [0.36336218, 1.        ]])"
            ]
          },
          "metadata": {
            "tags": []
          },
          "execution_count": 39
        }
      ]
    },
    {
      "cell_type": "code",
      "metadata": {
        "colab": {
          "base_uri": "https://localhost:8080/",
          "height": 699
        },
        "id": "T32ygY1oRm_x",
        "outputId": "26a57298-0d66-4459-d207-d9de04b690a7"
      },
      "source": [
        "# Matriz de gráficos bidimensionais\n",
        "sns.pairplot(df[['n_filhos', 'salario', 'idade_anos']])\n",
        "df.corr()"
      ],
      "execution_count": null,
      "outputs": [
        {
          "output_type": "execute_result",
          "data": {
            "text/html": [
              "<div>\n",
              "<style scoped>\n",
              "    .dataframe tbody tr th:only-of-type {\n",
              "        vertical-align: middle;\n",
              "    }\n",
              "\n",
              "    .dataframe tbody tr th {\n",
              "        vertical-align: top;\n",
              "    }\n",
              "\n",
              "    .dataframe thead th {\n",
              "        text-align: right;\n",
              "    }\n",
              "</style>\n",
              "<table border=\"1\" class=\"dataframe\">\n",
              "  <thead>\n",
              "    <tr style=\"text-align: right;\">\n",
              "      <th></th>\n",
              "      <th>N</th>\n",
              "      <th>n_filhos</th>\n",
              "      <th>salario</th>\n",
              "      <th>idade_anos</th>\n",
              "    </tr>\n",
              "  </thead>\n",
              "  <tbody>\n",
              "    <tr>\n",
              "      <th>N</th>\n",
              "      <td>1.000000</td>\n",
              "      <td>0.339659</td>\n",
              "      <td>0.972384</td>\n",
              "      <td>0.334687</td>\n",
              "    </tr>\n",
              "    <tr>\n",
              "      <th>n_filhos</th>\n",
              "      <td>0.339659</td>\n",
              "      <td>1.000000</td>\n",
              "      <td>0.358065</td>\n",
              "      <td>0.746539</td>\n",
              "    </tr>\n",
              "    <tr>\n",
              "      <th>salario</th>\n",
              "      <td>0.972384</td>\n",
              "      <td>0.358065</td>\n",
              "      <td>1.000000</td>\n",
              "      <td>0.363362</td>\n",
              "    </tr>\n",
              "    <tr>\n",
              "      <th>idade_anos</th>\n",
              "      <td>0.334687</td>\n",
              "      <td>0.746539</td>\n",
              "      <td>0.363362</td>\n",
              "      <td>1.000000</td>\n",
              "    </tr>\n",
              "  </tbody>\n",
              "</table>\n",
              "</div>"
            ],
            "text/plain": [
              "                   N  n_filhos   salario  idade_anos\n",
              "N           1.000000  0.339659  0.972384    0.334687\n",
              "n_filhos    0.339659  1.000000  0.358065    0.746539\n",
              "salario     0.972384  0.358065  1.000000    0.363362\n",
              "idade_anos  0.334687  0.746539  0.363362    1.000000"
            ]
          },
          "metadata": {
            "tags": []
          },
          "execution_count": 40
        },
        {
          "output_type": "display_data",
          "data": {
            "image/png": "[encoded data removed]",
            "text/plain": [
              "<Figure size 540x540 with 12 Axes>"
            ]
          },
          "metadata": {
            "tags": [],
            "needs_background": "light"
          }
        }
      ]
    },
    {
      "cell_type": "code",
      "metadata": {
        "id": "I-oqBeI2SuxF"
      },
      "source": [
        ""
      ],
      "execution_count": null,
      "outputs": []
    },
    {
      "cell_type": "markdown",
      "metadata": {
        "id": "C7S1MaB4SsIe"
      },
      "source": [
        "# Exercício Final\n",
        "\n",
        "Crie um novo notebook e faça uma análise exploratória da base do titanic. Cada linha dessa base representa um passageiro com suas devidas informações como sexo, idade, classe econômica, se sobrevivou ou não e etc.\n",
        "\n",
        "A base do titanic está na pasta `data` com o nome `titanic.csv`.\n",
        "\n",
        "Algumas perguntas interessantes para começar a sua análise exploratória:\n",
        "\n",
        "* *Qual a distribuição de homens e mulheres na base?* (**univariada**)\n",
        "* *Quem mais sobreviveu: mulheres ou homens?* (**bivariada**)\n",
        "* *Qual a distribuição dos passageiros por classe econômia?* (**univariada**)\n",
        "* *Quem mais sobreviveu por classe econômica?* (**bivariada**)\n",
        "\n"
      ]
    },
    {
      "cell_type": "code",
      "metadata": {
        "id": "QWMB5KfORtKH"
      },
      "source": [
        ""
      ],
      "execution_count": null,
      "outputs": []
    }
  ]
}